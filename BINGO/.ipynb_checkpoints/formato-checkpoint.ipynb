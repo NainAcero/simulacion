{
 "cells": [
  {
   "cell_type": "code",
   "execution_count": 13,
   "metadata": {},
   "outputs": [],
   "source": [
    "from reportlab.lib import colors \n",
    "from reportlab.lib.pagesizes import letter, inch \n",
    "from reportlab.platypus import SimpleDocTemplate, Table, TableStyle "
   ]
  },
  {
   "cell_type": "code",
   "execution_count": 69,
   "metadata": {},
   "outputs": [
    {
     "ename": "AttributeError",
     "evalue": "'SimpleDocTemplate' object has no attribute 'setFont'",
     "output_type": "error",
     "traceback": [
      "\u001b[1;31m---------------------------------------------------------------------------\u001b[0m",
      "\u001b[1;31mAttributeError\u001b[0m                            Traceback (most recent call last)",
      "\u001b[1;32m<ipython-input-69-d47e7fef443d>\u001b[0m in \u001b[0;36m<module>\u001b[1;34m\u001b[0m\n\u001b[0;32m      1\u001b[0m \u001b[0mdoc\u001b[0m \u001b[1;33m=\u001b[0m \u001b[0mSimpleDocTemplate\u001b[0m\u001b[1;33m(\u001b[0m\u001b[1;34m\"simple_table_grid.pdf\"\u001b[0m\u001b[1;33m,\u001b[0m \u001b[0mpagesize\u001b[0m\u001b[1;33m=\u001b[0m\u001b[0mletter\u001b[0m\u001b[1;33m)\u001b[0m\u001b[1;33m\u001b[0m\u001b[1;33m\u001b[0m\u001b[0m\n\u001b[0;32m      2\u001b[0m \u001b[0melements\u001b[0m \u001b[1;33m=\u001b[0m \u001b[1;33m[\u001b[0m\u001b[1;33m]\u001b[0m\u001b[1;33m\u001b[0m\u001b[1;33m\u001b[0m\u001b[0m\n\u001b[1;32m----> 3\u001b[1;33m \u001b[0mdoc\u001b[0m\u001b[1;33m.\u001b[0m\u001b[0msetFont\u001b[0m\u001b[1;33m(\u001b[0m\u001b[1;34m\"Helvetica\"\u001b[0m\u001b[1;33m,\u001b[0m \u001b[1;36m10\u001b[0m\u001b[1;33m)\u001b[0m\u001b[1;33m\u001b[0m\u001b[1;33m\u001b[0m\u001b[0m\n\u001b[0m\u001b[0;32m      4\u001b[0m \u001b[0mdoc\u001b[0m\u001b[1;33m.\u001b[0m\u001b[0mdrawString\u001b[0m\u001b[1;33m(\u001b[0m\u001b[1;36m50\u001b[0m\u001b[1;33m,\u001b[0m \u001b[0mh\u001b[0m \u001b[1;33m-\u001b[0m \u001b[1;36m50\u001b[0m\u001b[1;33m,\u001b[0m \u001b[1;34m\"¡Hola, mundo!\"\u001b[0m\u001b[1;33m)\u001b[0m\u001b[1;33m\u001b[0m\u001b[1;33m\u001b[0m\u001b[0m\n\u001b[0;32m      5\u001b[0m \u001b[0mdoc\u001b[0m\u001b[1;33m.\u001b[0m\u001b[0msetFont\u001b[0m\u001b[1;33m(\u001b[0m\u001b[1;34m\"Times-Roman\"\u001b[0m\u001b[1;33m,\u001b[0m \u001b[1;36m20\u001b[0m\u001b[1;33m)\u001b[0m\u001b[1;33m\u001b[0m\u001b[1;33m\u001b[0m\u001b[0m\n",
      "\u001b[1;31mAttributeError\u001b[0m: 'SimpleDocTemplate' object has no attribute 'setFont'"
     ]
    }
   ],
   "source": [
    "doc = SimpleDocTemplate(\"simple_table_grid.pdf\", pagesize=letter) \n",
    "elements = [] \n",
    "\n",
    "data= [['00', '01', '02', '03', '04'], \n",
    "    ['10', '11', '12', '13', '14'], \n",
    "    ['20', '21', '22', '23', '24'], \n",
    "    ['30', '31', '32', '33', '34'], \n",
    "    ['30', '31', '32', '33', '34']] \n",
    "\n",
    "t=Table(data,5*[1*inch], 5*[0.7*inch]) \n",
    "t.setStyle(TableStyle([ \n",
    "    ('INNERGRID', (0,0), (4,4), 0.25, colors.black), \n",
    "        ('BOX', (0,0), (4,4), 0.25, colors.black),\n",
    "        ('FONTSIZE', (0, 0), (4, 4), 40),\n",
    "        ('FONTNAME', (0,0), (4, 4), 'Courier-Bold')\n",
    "        ])) \n",
    "\n",
    "elements.append(t)  \n",
    "\n",
    "doc.build(elements) "
   ]
  },
  {
   "cell_type": "code",
   "execution_count": 73,
   "metadata": {},
   "outputs": [],
   "source": [
    "from reportlab.pdfgen import canvas\n",
    "from reportlab.lib.pagesizes import A4\n",
    "import itertools\n",
    "from random import randint\n",
    "from statistics import mean"
   ]
  },
  {
   "cell_type": "code",
   "execution_count": 167,
   "metadata": {},
   "outputs": [],
   "source": [
    "def grouper(iterable, n):\n",
    "    args = [iter(iterable)] * n\n",
    "    return itertools.zip_longest(*args)\n",
    "\n",
    "def export_to_pdf(data, nombre):\n",
    "    c = canvas.Canvas(nombre, pagesize=A4)\n",
    "    c.setFont(\"Helvetica\", 30)\n",
    "    w, h = A4\n",
    "    max_rows_per_page = 5\n",
    "    # Margin.\n",
    "    x_offset = 50\n",
    "    y_offset = 50\n",
    "    # Space between rows.\n",
    "    padding = 40\n",
    "    \n",
    "    xlist = [x + x_offset for x in [50, 130, 210, 290, 370, 450]]\n",
    "    ylist = [h - y_offset - i*padding for i in range(max_rows_per_page + 500)]\n",
    "    \n",
    "    c.drawCentredString(A4[0] / 2,810,u\"BINGO\") #Título\n",
    "    \n",
    "    for rows in grouper(data, max_rows_per_page):\n",
    "        rows = tuple(filter(bool, rows))\n",
    "        c.grid(xlist, ylist[:len(rows) + 1])\n",
    "        for y, row in zip(ylist[:-1], rows):\n",
    "            for x, cell in zip(xlist, row):\n",
    "                c.drawString(x + 25, y - padding + 10, str(cell))\n",
    "        c.showPage()\n",
    "    \n",
    "    c.save()\n",
    "data = [[1, 23, 34,45,78],[23, 23, 34,45,78],[23, 23, 34,45,78], [23, 23, 34,45,78],[23, 23, 34,45,78]]\n",
    "\n",
    "export_to_pdf(data, \"grilla-alumnos.pdf\")"
   ]
  },
  {
   "cell_type": "code",
   "execution_count": null,
   "metadata": {},
   "outputs": [],
   "source": []
  },
  {
   "cell_type": "code",
   "execution_count": 86,
   "metadata": {},
   "outputs": [],
   "source": []
  },
  {
   "cell_type": "code",
   "execution_count": 87,
   "metadata": {},
   "outputs": [],
   "source": []
  },
  {
   "cell_type": "code",
   "execution_count": null,
   "metadata": {},
   "outputs": [],
   "source": []
  }
 ],
 "metadata": {
  "kernelspec": {
   "display_name": "Python 3",
   "language": "python",
   "name": "python3"
  },
  "language_info": {
   "codemirror_mode": {
    "name": "ipython",
    "version": 3
   },
   "file_extension": ".py",
   "mimetype": "text/x-python",
   "name": "python",
   "nbconvert_exporter": "python",
   "pygments_lexer": "ipython3",
   "version": "3.8.5"
  }
 },
 "nbformat": 4,
 "nbformat_minor": 4
}
