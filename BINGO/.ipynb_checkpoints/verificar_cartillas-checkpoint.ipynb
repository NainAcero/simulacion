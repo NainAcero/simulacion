{
 "cells": [
  {
   "cell_type": "code",
   "execution_count": 2,
   "metadata": {},
   "outputs": [],
   "source": [
    "import pandas as pd\n",
    "import os\n",
    "import numpy as np"
   ]
  },
  {
   "cell_type": "code",
   "execution_count": 3,
   "metadata": {},
   "outputs": [],
   "source": [
    "df = pd.read_csv('cartillas.csv')"
   ]
  },
  {
   "cell_type": "code",
   "execution_count": 4,
   "metadata": {},
   "outputs": [
    {
     "data": {
      "text/html": [
       "<div>\n",
       "<style scoped>\n",
       "    .dataframe tbody tr th:only-of-type {\n",
       "        vertical-align: middle;\n",
       "    }\n",
       "\n",
       "    .dataframe tbody tr th {\n",
       "        vertical-align: top;\n",
       "    }\n",
       "\n",
       "    .dataframe thead th {\n",
       "        text-align: right;\n",
       "    }\n",
       "</style>\n",
       "<table border=\"1\" class=\"dataframe\">\n",
       "  <thead>\n",
       "    <tr style=\"text-align: right;\">\n",
       "      <th></th>\n",
       "      <th>CARTILLAS</th>\n",
       "    </tr>\n",
       "  </thead>\n",
       "  <tbody>\n",
       "    <tr>\n",
       "      <th>995</th>\n",
       "      <td>8 20 45 60 63 14 25 32 49 75 6 17 42 54 64 3 2...</td>\n",
       "    </tr>\n",
       "    <tr>\n",
       "      <th>996</th>\n",
       "      <td>3 22 45 47 63 15 19 42 48 62 1 17 43 52 72 10 ...</td>\n",
       "    </tr>\n",
       "    <tr>\n",
       "      <th>997</th>\n",
       "      <td>15 30 44 49 71 14 24 37 57 61 11 22 31 55 62 1...</td>\n",
       "    </tr>\n",
       "    <tr>\n",
       "      <th>998</th>\n",
       "      <td>12 28 31 57 75 7 29 38 51 62 11 27 41 52 72 4 ...</td>\n",
       "    </tr>\n",
       "    <tr>\n",
       "      <th>999</th>\n",
       "      <td>7 19 39 47 73 5 16 41 51 74 9 29 38 46 64 1 27...</td>\n",
       "    </tr>\n",
       "  </tbody>\n",
       "</table>\n",
       "</div>"
      ],
      "text/plain": [
       "                                             CARTILLAS\n",
       "995  8 20 45 60 63 14 25 32 49 75 6 17 42 54 64 3 2...\n",
       "996  3 22 45 47 63 15 19 42 48 62 1 17 43 52 72 10 ...\n",
       "997  15 30 44 49 71 14 24 37 57 61 11 22 31 55 62 1...\n",
       "998  12 28 31 57 75 7 29 38 51 62 11 27 41 52 72 4 ...\n",
       "999  7 19 39 47 73 5 16 41 51 74 9 29 38 46 64 1 27..."
      ]
     },
     "execution_count": 4,
     "metadata": {},
     "output_type": "execute_result"
    }
   ],
   "source": [
    "df.tail()"
   ]
  },
  {
   "cell_type": "code",
   "execution_count": 5,
   "metadata": {},
   "outputs": [],
   "source": [
    "data = []\n",
    "for cartilla in df['CARTILLAS']:\n",
    "    temp = len(cartilla)\n",
    "    data.append(cartilla[:temp - 1].split(' '))"
   ]
  },
  {
   "cell_type": "code",
   "execution_count": 9,
   "metadata": {},
   "outputs": [
    {
     "data": {
      "text/plain": [
       "'4'"
      ]
     },
     "execution_count": 9,
     "metadata": {},
     "output_type": "execute_result"
    }
   ],
   "source": [
    "data[2][0]"
   ]
  },
  {
   "cell_type": "code",
   "execution_count": 25,
   "metadata": {},
   "outputs": [
    {
     "name": "stdout",
     "output_type": "stream",
     "text": [
      "{2, 4, 6}\n"
     ]
    }
   ],
   "source": [
    "array1 = [1,2,3,4,5,6]\n",
    "array2 = [0,2,4,6,8,10]\n",
    "\n",
    "array3 = set(array1).intersection(array2)\n",
    "print(array3)\n"
   ]
  },
  {
   "cell_type": "code",
   "execution_count": 51,
   "metadata": {},
   "outputs": [
    {
     "name": "stdout",
     "output_type": "stream",
     "text": [
      "1000\n"
     ]
    }
   ],
   "source": [
    "ver = 0\n",
    "for compara in data:\n",
    "    con = 0\n",
    "    for element in data:\n",
    "        array3 = set(compara).intersection(element)\n",
    "        if(len(array3) > 20):\n",
    "            ver += 1\n",
    "            con += 1\n",
    "            if(con > 1):\n",
    "                print(len(array3))\n",
    "print(ver)"
   ]
  },
  {
   "cell_type": "code",
   "execution_count": 32,
   "metadata": {},
   "outputs": [],
   "source": [
    "from reportlab.lib import colors \n",
    "from reportlab.lib.pagesizes import letter, inch \n",
    "from reportlab.platypus import SimpleDocTemplate, Table, TableStyle "
   ]
  },
  {
   "cell_type": "code",
   "execution_count": 48,
   "metadata": {},
   "outputs": [],
   "source": [
    "elements = []\n",
    "datos = [5]\n",
    "numeros = [5]\n",
    "\n",
    "con = 0\n",
    "pos = 0\n",
    "i = 0\n",
    "\n",
    "for element in data:\n",
    "    datos = []\n",
    "    numeros = []\n",
    "    elements = []\n",
    "    i += 1\n",
    "    doc = SimpleDocTemplate((\"cartilla_\") + repr(i) + (\".pdf\"), pagesize=letter)\n",
    "    for numero in element:\n",
    "        con += 1\n",
    "        numeros.append(numero)\n",
    "        if(con == 5):\n",
    "            datos.append(numeros)\n",
    "            numeros = []\n",
    "            pos += 1\n",
    "            con = 0\n",
    "    t=Table(datos,5*[0.3*inch], 5*[0.2*inch]) \n",
    "    t.setStyle(TableStyle([ \n",
    "        ('INNERGRID', (0,0), (-1,-1), 0.25, colors.black), \n",
    "        ('BOX', (0,0), (-1,-1), 0.25, colors.black), \n",
    "    ]))\n",
    "    \n",
    "    elements.append(t)  \n",
    "    doc.build(elements) "
   ]
  },
  {
   "cell_type": "code",
   "execution_count": null,
   "metadata": {},
   "outputs": [],
   "source": []
  },
  {
   "cell_type": "code",
   "execution_count": null,
   "metadata": {},
   "outputs": [],
   "source": []
  }
 ],
 "metadata": {
  "kernelspec": {
   "display_name": "Python 3",
   "language": "python",
   "name": "python3"
  },
  "language_info": {
   "codemirror_mode": {
    "name": "ipython",
    "version": 3
   },
   "file_extension": ".py",
   "mimetype": "text/x-python",
   "name": "python",
   "nbconvert_exporter": "python",
   "pygments_lexer": "ipython3",
   "version": "3.8.5"
  }
 },
 "nbformat": 4,
 "nbformat_minor": 4
}
