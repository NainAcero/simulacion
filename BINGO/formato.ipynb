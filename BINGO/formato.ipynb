{
 "cells": [
  {
   "cell_type": "code",
   "execution_count": null,
   "metadata": {},
   "outputs": [],
   "source": []
  },
  {
   "cell_type": "code",
   "execution_count": null,
   "metadata": {},
   "outputs": [],
   "source": []
  },
  {
   "cell_type": "code",
   "execution_count": 294,
   "metadata": {},
   "outputs": [],
   "source": [
    "from reportlab.pdfgen import canvas\n",
    "from reportlab.lib.pagesizes import A4\n",
    "import itertools\n",
    "from random import randint\n",
    "from statistics import mean\n",
    "from reportlab.lib.colors import HexColor\n",
    "from reportlab.lib.utils import ImageReader"
   ]
  },
  {
   "cell_type": "code",
   "execution_count": 295,
   "metadata": {},
   "outputs": [],
   "source": [
    "def grouper(iterable, n):\n",
    "    args = [iter(iterable)] * n\n",
    "    return itertools.zip_longest(*args)\n",
    "\n",
    "def export_to_pdf(data, nombrePDF, nombre, email, telefono):\n",
    "    c = canvas.Canvas(nombrePDF, pagesize=A4)\n",
    "    c.setFont(\"Helvetica-Bold\", 50)\n",
    "    c.setFillColorRGB(59,89,152)\n",
    "    \n",
    "    logo = ImageReader('https://scontent.ftcq1-1.fna.fbcdn.net/v/t1.0-9/81371295_2857352471023996_2027569939212140544_n.png?_nc_cat=107&ccb=2&_nc_sid=09cbfe&_nc_eui2=AeHkbXy8KjWXkgJAShToaA1EkNjTzvZf6XKQ2NPO9l_pcr6GA025j7mqGuOGyTXrmXKDG3eUaHqAZVsO_B5__p9F&_nc_ohc=GHQWUqNSPAUAX-z51dv&_nc_ht=scontent.ftcq1-1.fna&oh=a5f4ec803cd9a9475d820a40bdd1db02&oe=600B5EC8')\n",
    "    c.roundRect(50, 300, 500, 350, 20, stroke = 1, fill = 1)\n",
    "    w, h = A4\n",
    "    max_rows_per_page = 5\n",
    "    # Margin.\n",
    "    x_offset = 50\n",
    "    y_offset = 300\n",
    "    # Space between rows.\n",
    "    padding = 40\n",
    "    \n",
    "    xlist = [x + x_offset for x in [50, 130, 210, 290, 370, 450]]\n",
    "    ylist = [h - y_offset - i*padding for i in range(max_rows_per_page + 1)]\n",
    "    \n",
    "    c.setFillColorRGB(255,255,255)\n",
    "    c.drawCentredString(A4[0] / 2,580,u\"BINGO 2021\") #Título\n",
    "    \n",
    "    c.roundRect(100, 342, 400, 200, 0, stroke = 1, fill = 1)\n",
    "    \n",
    "    c.setFont(\"Helvetica\", 14)\n",
    "    \n",
    "    c.setFillColorRGB(0,0,0)\n",
    "    c.drawCentredString(A4[0] / 2,720,u\"Nombre: \" + nombre)\n",
    "    c.drawCentredString(A4[0] / 2,700,u\"Correo: \" + email)\n",
    "    c.drawCentredString(A4[0] / 2,680,u\"Phone: \" + telefono)\n",
    "    \n",
    "    c.setFont(\"Helvetica\", 30)\n",
    "    for rows in grouper(data, max_rows_per_page):\n",
    "        rows = tuple(filter(bool, rows))\n",
    "        c.grid(xlist, ylist[:len(rows) + 1])\n",
    "        for y, row in zip(ylist[:-1], rows):\n",
    "            for x, cell in zip(xlist, row):\n",
    "                if(cell == 0):\n",
    "                    c.drawImage(logo, x + 25, y - padding + 5, mask='auto',  width=40, height=30)\n",
    "                else:\n",
    "                    c.drawString(x + 25, y - padding + 10, str(cell))\n",
    "        c.showPage()\n",
    "    \n",
    "    c.save()\n",
    "data = [[0, 23, 34,45,78],[23, 23, 34,45,78],[23, 23, 34,45,78], [23, 23, 34,45,78],[23, 23, 34,45,78]]\n",
    "\n",
    "export_to_pdf(data, \"grilla-alumnos.pdf\", \"Nain Acero\", \"a_nacerom@unjbg.edu.pe\", \"931375941\")"
   ]
  },
  {
   "cell_type": "code",
   "execution_count": null,
   "metadata": {},
   "outputs": [],
   "source": []
  },
  {
   "cell_type": "code",
   "execution_count": 86,
   "metadata": {},
   "outputs": [],
   "source": []
  },
  {
   "cell_type": "code",
   "execution_count": 87,
   "metadata": {},
   "outputs": [],
   "source": []
  },
  {
   "cell_type": "code",
   "execution_count": null,
   "metadata": {},
   "outputs": [],
   "source": []
  }
 ],
 "metadata": {
  "kernelspec": {
   "display_name": "Python 3",
   "language": "python",
   "name": "python3"
  },
  "language_info": {
   "codemirror_mode": {
    "name": "ipython",
    "version": 3
   },
   "file_extension": ".py",
   "mimetype": "text/x-python",
   "name": "python",
   "nbconvert_exporter": "python",
   "pygments_lexer": "ipython3",
   "version": "3.8.5"
  }
 },
 "nbformat": 4,
 "nbformat_minor": 4
}
