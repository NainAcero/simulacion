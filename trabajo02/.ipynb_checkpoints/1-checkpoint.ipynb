{
 "cells": [
  {
   "cell_type": "code",
   "execution_count": 1,
   "metadata": {},
   "outputs": [],
   "source": [
    "import math\n",
    "import numpy as np\n",
    "import pandas  as pd\n",
    "from matplotlib import pyplot as plt\n",
    "import scipy.stats as st \n",
    "import random"
   ]
  },
  {
   "cell_type": "markdown",
   "metadata": {},
   "source": [
    "## EARLANG"
   ]
  },
  {
   "cell_type": "code",
   "execution_count": 2,
   "metadata": {},
   "outputs": [],
   "source": [
    "def earlang(data, n, k, lamda):\n",
    "    x = []\n",
    "    for i in range(n):\n",
    "        val = 1.0\n",
    "        for j in range(k):\n",
    "            aleatorio = random.choice(data)\n",
    "            val = val * aleatorio\n",
    "            data.remove(aleatorio)\n",
    "        resp = -(lamda/k)*math.log(val)\n",
    "        x.append(resp)\n",
    "    return x"
   ]
  },
  {
   "cell_type": "code",
   "execution_count": 3,
   "metadata": {},
   "outputs": [
    {
     "name": "stdout",
     "output_type": "stream",
     "text": [
      "Números pseudoaleatorios generados a través del tiempo:\n"
     ]
    },
    {
     "data": {
      "image/png": "[encoded data removed]",
      "text/plain": [
       "<Figure size 432x288 with 1 Axes>"
      ]
     },
     "metadata": {
      "needs_background": "light"
     },
     "output_type": "display_data"
    }
   ],
   "source": [
    "n = 10\n",
    "\n",
    "def algoritmo_cuadratico(semilla,a,b,c,m):\n",
    "  entero = (a*semilla**2+b*semilla+c)%m\n",
    "  r = entero/(m-1)\n",
    "  return r,entero\n",
    "\n",
    "cantidad = n * 3\n",
    "semilla = 3\n",
    "pseudoaleatorios = []\n",
    "for i in range(cantidad):\n",
    "  r,semilla = algoritmo_cuadratico(semilla,a=1,b=0,c=0,m=11*23)\n",
    "  pseudoaleatorios.append(round(r, 4))\n",
    "\n",
    "df = pd.DataFrame({'column':pseudoaleatorios}) \n",
    "df.to_csv('lab_01_algoritmo_blum_blum.csv', index=False, header=['aleatorio'],sep=';',decimal='.')\n",
    "df.to_csv('lab_01_algoritmo_blum_blum.txt', index=False, header=['aleatorio'],sep=';',decimal='.')\n",
    "\n",
    "print(\"Números pseudoaleatorios generados a través del tiempo:\")\n",
    "plt.plot(range(cantidad),pseudoaleatorios, marker=\"o\", color=\"red\")\n",
    "plt.show()"
   ]
  },
  {
   "cell_type": "markdown",
   "metadata": {},
   "source": [
    "## 2. Pruebas de uniformidad"
   ]
  },
  {
   "cell_type": "markdown",
   "metadata": {},
   "source": [
    "Busca determinar si los números del conjunto $r_i$ se distribuyen de manera uniforme en el intervalo (0,1). Es necesario dividir el intervalo (0,1) en $m$ sub-intervalos, en donde es recomendable $m=\\sqrt{n}$. Luego se clasifica cada número cada número pseudoaleatorio $r_i$ en los $m$ intervalos. Donde $O_i$ es la frecuencia observada y $E_i$ es la frecuencia esperada. $E_i$ es teóricamente igual a $n/m$.\n",
    "\n",
    "> $\\mathcal{X}_0^2=\\sum_{i=1}^{m}\\frac{(E_i-O_i)^2}{E_i}$\n",
    "\n",
    "Si el valor estadístico $\\mathcal{X}_0^2$ es menor al valor de tablas de $\\mathcal{X}_{\\alpha,m-1}^2$, entonces no se puede rechazar que el conjunto de numeros $r_i$ sigue una distribución uniforme. En caso contrario, se rechaza que $r_i$ sigue una distribución uniforme."
   ]
  },
  {
   "cell_type": "code",
   "execution_count": 4,
   "metadata": {},
   "outputs": [
    {
     "name": "stdout",
     "output_type": "stream",
     "text": [
      "El estadístico chi-cuadrada es:  7.666666666666667\n",
      "Tabla 11.143286781877796\n"
     ]
    }
   ],
   "source": [
    "def prueba_chi_cuadrada(pseudoaleatorios):\n",
    "  n = len(pseudoaleatorios)\n",
    "  m = int(n**0.5)\n",
    "  intervalo = 1/m\n",
    "  frec_esperada = np.ones(m)*(n/m)\n",
    "  frec_observada = np.zeros(m)\n",
    "  for pseudoaleatorio in pseudoaleatorios:\n",
    "    posicion = int(pseudoaleatorio/intervalo) if pseudoaleatorio!=1 else m-1\n",
    "    frec_observada[posicion] += 1\n",
    "  return ((frec_esperada-frec_observada)**2/frec_esperada).sum()\n",
    "\n",
    "datos = np.array(pseudoaleatorios)\n",
    "print(\"El estadístico chi-cuadrada es: \",prueba_chi_cuadrada(datos))\n",
    "a = 0.05\n",
    "print(\"Tabla\", st.chi2.ppf( 1 - (a/2), int(len(datos)**0.5) - 1))"
   ]
  },
  {
   "cell_type": "code",
   "execution_count": 5,
   "metadata": {},
   "outputs": [
    {
     "data": {
      "text/plain": [
       "[10.966309164651111,\n",
       " 1.8143644322776473,\n",
       " 10.322101899927706,\n",
       " 13.405511952218305,\n",
       " 12.380693541688347,\n",
       " 6.697909306625087,\n",
       " 20.999406512175714,\n",
       " 15.392551163628745,\n",
       " 15.966280326325162,\n",
       " 7.829204922697721]"
      ]
     },
     "execution_count": 5,
     "metadata": {},
     "output_type": "execute_result"
    }
   ],
   "source": [
    "k = 3\n",
    "lamda = 8\n",
    "earlang(pseudoaleatorios, n, k, lamda)"
   ]
  },
  {
   "cell_type": "code",
   "execution_count": null,
   "metadata": {},
   "outputs": [],
   "source": []
  },
  {
   "cell_type": "code",
   "execution_count": null,
   "metadata": {},
   "outputs": [],
   "source": []
  }
 ],
 "metadata": {
  "kernelspec": {
   "display_name": "Python 3",
   "language": "python",
   "name": "python3"
  },
  "language_info": {
   "codemirror_mode": {
    "name": "ipython",
    "version": 3
   },
   "file_extension": ".py",
   "mimetype": "text/x-python",
   "name": "python",
   "nbconvert_exporter": "python",
   "pygments_lexer": "ipython3",
   "version": "3.8.5"
  }
 },
 "nbformat": 4,
 "nbformat_minor": 4
}
