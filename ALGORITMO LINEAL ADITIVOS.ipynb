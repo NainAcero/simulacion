{
 "cells": [
  {
   "cell_type": "markdown",
   "metadata": {},
   "source": [
    "## ALGORITMO LINEAL ADITIVOS - ESIS ( Nain Acero)"
   ]
  },
  {
   "cell_type": "code",
   "execution_count": 1,
   "metadata": {},
   "outputs": [],
   "source": [
    "import numpy as np\n",
    "import pandas  as pd\n",
    "import os\n",
    "import matplotlib.pyplot as plt"
   ]
  },
  {
   "cell_type": "code",
   "execution_count": 2,
   "metadata": {},
   "outputs": [],
   "source": [
    "def randint_list(n):\n",
    "    y = []\n",
    "    for i in range(n):\n",
    "      y.append(np.random.random())\n",
    "    return y"
   ]
  },
  {
   "cell_type": "code",
   "execution_count": 3,
   "metadata": {},
   "outputs": [],
   "source": [
    "def lineal_aditivos(n, x, m):\n",
    "    z = []\n",
    "    for i in range(n):\n",
    "        numero = ( (x[-1] + x[i]) % m )\n",
    "        x.append(numero)\n",
    "        r1 = numero / (m-1)\n",
    "        z.append(r1)\n",
    "    return z"
   ]
  },
  {
   "cell_type": "code",
   "execution_count": 4,
   "metadata": {},
   "outputs": [
    {
     "name": "stdout",
     "output_type": "stream",
     "text": [
      "[0.3434343434343434, 0.23232323232323232, 0.21212121212121213, 0.24242424242424243, 0.9393939393939394, 0.2727272727272727, 0.5050505050505051, 0.7171717171717171, 0.9595959595959596, 0.8888888888888888]\n"
     ]
    }
   ],
   "source": [
    "datos = randint_list(5)\n",
    "x = [65,89,98,3,69]\n",
    "m = 100\n",
    "data = lineal_aditivos(10, x, m)\n",
    "print(data)\n",
    "df = pd.DataFrame({'column':data}) \n",
    "df.to_csv('out_algoritmo_lineal_aditivo.csv', index=False, header=['aleatorio'],sep=';',decimal='.')\n",
    "df.to_csv('out_algoritmo_lineal_aditivo.txt', index=False, header=['aleatorio'],sep=';',decimal='.')"
   ]
  },
  {
   "cell_type": "code",
   "execution_count": 5,
   "metadata": {},
   "outputs": [
    {
     "data": {
      "text/plain": [
       "[<matplotlib.lines.Line2D at 0x21bc345b7f0>]"
      ]
     },
     "execution_count": 5,
     "metadata": {},
     "output_type": "execute_result"
    },
    {
     "data": {
      "image/png": "[encoded data removed]",
      "text/plain": [
       "<Figure size 432x288 with 1 Axes>"
      ]
     },
     "metadata": {
      "needs_background": "light"
     },
     "output_type": "display_data"
    }
   ],
   "source": [
    "plt.plot(data)"
   ]
  },
  {
   "cell_type": "code",
   "execution_count": 6,
   "metadata": {},
   "outputs": [
    {
     "data": {
      "text/plain": [
       "(array([4., 1., 0., 1., 0., 0., 1., 0., 0., 3.]),\n",
       " array([0.21212121, 0.28686869, 0.36161616, 0.43636364, 0.51111111,\n",
       "        0.58585859, 0.66060606, 0.73535354, 0.81010101, 0.88484848,\n",
       "        0.95959596]),\n",
       " <BarContainer object of 10 artists>)"
      ]
     },
     "execution_count": 6,
     "metadata": {},
     "output_type": "execute_result"
    },
    {
     "data": {
      "image/png": "[encoded data removed]",
      "text/plain": [
       "<Figure size 432x288 with 1 Axes>"
      ]
     },
     "metadata": {
      "needs_background": "light"
     },
     "output_type": "display_data"
    }
   ],
   "source": [
    "plt.hist(data)"
   ]
  },
  {
   "cell_type": "code",
   "execution_count": null,
   "metadata": {},
   "outputs": [],
   "source": []
  }
 ],
 "metadata": {
  "kernelspec": {
   "display_name": "Python 3",
   "language": "python",
   "name": "python3"
  },
  "language_info": {
   "codemirror_mode": {
    "name": "ipython",
    "version": 3
   },
   "file_extension": ".py",
   "mimetype": "text/x-python",
   "name": "python",
   "nbconvert_exporter": "python",
   "pygments_lexer": "ipython3",
   "version": "3.8.5"
  }
 },
 "nbformat": 4,
 "nbformat_minor": 4
}
