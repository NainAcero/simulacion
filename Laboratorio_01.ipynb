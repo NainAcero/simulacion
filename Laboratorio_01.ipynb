{
 "cells": [
  {
   "cell_type": "code",
   "execution_count": 20,
   "metadata": {},
   "outputs": [],
   "source": [
    "import pandas as pd\n",
    "import os\n",
    "import numpy as np\n",
    "import math\n",
    "import scipy.stats as st \n",
    "import matplotlib.pyplot as plt\n",
    "import statistics"
   ]
  },
  {
   "cell_type": "code",
   "execution_count": 21,
   "metadata": {},
   "outputs": [],
   "source": [
    "def limite_inferior(z, n):\n",
    "    return (1/2) - st.norm.ppf(z)*(1/(math.sqrt(12*n)))\n",
    "\n",
    "def limite_superior(z, n):\n",
    "    return (1/2) + st.norm.ppf(z)*(1/(math.sqrt(12*n)))\n",
    "\n",
    "def grafica(li, ls, x, titulo):\n",
    "    fig = plt.figure(figsize=(20, 2)) \n",
    "\n",
    "    ax = plt.subplot(111)\n",
    "    ax.spines['right'].set_visible(False)\n",
    "    ax.spines['left'].set_visible(False)\n",
    "    ax.spines['top'].set_visible(False)\n",
    "    plt.gca().axes.get_yaxis().set_visible(False)\n",
    "\n",
    "    plt.title(titulo)\n",
    "\n",
    "    ax.set_yticklabels(())\n",
    "    ax.set_ylim([0, 1])\n",
    "    ax.set_xlim([li, ls])\n",
    "    plt.plot(float(li), 0.05, marker=\"o\", color=\"blue\")\n",
    "    plt.plot(float(ls), 0.05, marker=\"o\", color=\"blue\")\n",
    "    plt.plot(float(x), 0.1, marker=\"o\", color=\"red\")\n",
    "    plt.show()\n",
    "    "
   ]
  },
  {
   "cell_type": "code",
   "execution_count": 22,
   "metadata": {},
   "outputs": [
    {
     "name": "stdout",
     "output_type": "stream",
     "text": [
      "0.41054029281414217\n",
      "0.5894597071858578\n"
     ]
    }
   ],
   "source": [
    "data = [0.04, 0.09, 0.56, 0.92, 0.14, 0.73, 0.35, 0.14, 0.79, 0.42, 0.15, 0, 0.86, 0.91, 0.76, 0.21, 0.68, 0.79, 0.13, 0.94, 0.26, 0.67, 0.88, 0.78, 0.49, 0.13, 0.83, 0.63, 0.39, 0.03, 0.35, 0.99, 0.19, 0.41, 0.62, 0.89, 0.51, 0.44, 0.65, 0.99, 0.23, 0.62, 0.22, 0.5, 0.26, 0.74, 0.31, 0.18, 0.14, 0.19, 0.72, 0.92, 0.76, 0.12, 0.34, 0.43, 0.16, 0.05, 0.35, 0.16, 0.62, 0.03, 0.83, 0.35, 0.21, 0.59, 0.56, 0.02, 0.32, 0.18, 0.91, 0.7, 0.68, 0.93, 0.3, 0.78, 0.3, 0.38, 0.06, 0.94, 0.24, 0.05, 0.97, 0.2, 0.4, 0.78, 0.36, 0.74, 0.95, 0.89, 0.45, 0.55, 0.26, 0.66, 0.47, 0.73, 0.21, 0.66, 0.64, 0.7]\n",
    "\n",
    "li = limite_inferior(.9750,40)\n",
    "ls = limite_superior(.9750,40)\n",
    "x = np.mean(data)\n",
    "lng = len(data)\n",
    "print(li)\n",
    "print(ls)"
   ]
  },
  {
   "cell_type": "code",
   "execution_count": 23,
   "metadata": {},
   "outputs": [
    {
     "data": {
      "image/png": "[encoded data removed]",
      "text/plain": [
       "<Figure size 1440x144 with 1 Axes>"
      ]
     },
     "metadata": {
      "needs_background": "light"
     },
     "output_type": "display_data"
    }
   ],
   "source": [
    "grafica(li, ls,x, \"GRAFICA 01\")"
   ]
  },
  {
   "cell_type": "code",
   "execution_count": null,
   "metadata": {},
   "outputs": [],
   "source": []
  },
  {
   "cell_type": "code",
   "execution_count": 46,
   "metadata": {},
   "outputs": [],
   "source": [
    "def chi2_limite_inferior(a, n):\n",
    "    return st.chi2.ppf( 1 - (a/2) , (n-1))/(12*(n-1))\n",
    "    \n",
    "def chi2_limite_superior(a, n):\n",
    "    return st.chi2.ppf(1 - (1-(a/2)) , (n-1))/(12*(n-1))"
   ]
  },
  {
   "cell_type": "code",
   "execution_count": 47,
   "metadata": {},
   "outputs": [
    {
     "name": "stdout",
     "output_type": "stream",
     "text": [
      "0.10809931704026962\n",
      "0.06175175100276404\n"
     ]
    }
   ],
   "source": [
    "vr = np.var(data)\n",
    "a = 0.05\n",
    "\n",
    "chi2_li = chi2_limite_inferior(a, lng)\n",
    "chi2_ls = chi2_limite_superior(a, lng)\n",
    "print(chi2_li)\n",
    "print(chi2_ls)"
   ]
  },
  {
   "cell_type": "code",
   "execution_count": 48,
   "metadata": {},
   "outputs": [
    {
     "data": {
      "image/png": "[encoded data removed]",
      "text/plain": [
       "<Figure size 1440x144 with 1 Axes>"
      ]
     },
     "metadata": {
      "needs_background": "light"
     },
     "output_type": "display_data"
    }
   ],
   "source": [
    "grafica(chi2_li, chi2_ls, vr, \"GRAFICA 02\")"
   ]
  },
  {
   "cell_type": "code",
   "execution_count": 8,
   "metadata": {},
   "outputs": [],
   "source": [
    "r = [0.97,0.11,0.65,0.26,0.98,0.03,0.13,0.89,0.21,0.69]"
   ]
  },
  {
   "cell_type": "code",
   "execution_count": 12,
   "metadata": {},
   "outputs": [],
   "source": [
    "data = sorted(r)"
   ]
  },
  {
   "cell_type": "code",
   "execution_count": 13,
   "metadata": {},
   "outputs": [
    {
     "name": "stdout",
     "output_type": "stream",
     "text": [
      "[0.03, 0.11, 0.13, 0.21, 0.26, 0.65, 0.69, 0.89, 0.97, 0.98]\n"
     ]
    }
   ],
   "source": [
    "print(data)"
   ]
  },
  {
   "cell_type": "code",
   "execution_count": 14,
   "metadata": {},
   "outputs": [
    {
     "data": {
      "text/plain": [
       "0.1"
      ]
     },
     "execution_count": 14,
     "metadata": {},
     "output_type": "execute_result"
    }
   ],
   "source": [
    "1/10"
   ]
  },
  {
   "cell_type": "code",
   "execution_count": 68,
   "metadata": {},
   "outputs": [
    {
     "name": "stdout",
     "output_type": "stream",
     "text": [
      "1\n",
      "0.1\n",
      "0.03\n",
      "0.0\n",
      "0.07\n",
      "0.03\n",
      "==================================\n",
      "2\n",
      "0.2\n",
      "0.11\n",
      "0.1\n",
      "0.09000000000000001\n",
      "0.009999999999999995\n",
      "==================================\n",
      "3\n",
      "0.3\n",
      "0.13\n",
      "0.2\n",
      "0.16999999999999998\n",
      "-0.07\n",
      "==================================\n",
      "4\n",
      "0.4\n",
      "0.21\n",
      "0.3\n",
      "0.19000000000000003\n",
      "-0.09\n",
      "==================================\n",
      "5\n",
      "0.5\n",
      "0.26\n",
      "0.4\n",
      "0.24\n",
      "-0.14\n",
      "==================================\n",
      "6\n",
      "0.6\n",
      "0.65\n",
      "0.5\n",
      "-0.050000000000000044\n",
      "0.15000000000000002\n",
      "==================================\n",
      "7\n",
      "0.7\n",
      "0.69\n",
      "0.6\n",
      "0.010000000000000009\n",
      "0.08999999999999997\n",
      "==================================\n",
      "8\n",
      "0.8\n",
      "0.89\n",
      "0.7\n",
      "-0.08999999999999997\n",
      "0.19000000000000006\n",
      "==================================\n",
      "9\n",
      "0.9\n",
      "0.97\n",
      "0.8\n",
      "-0.06999999999999995\n",
      "0.16999999999999993\n",
      "==================================\n",
      "10\n",
      "1.0\n",
      "0.98\n",
      "0.9\n",
      "0.020000000000000018\n",
      "0.07999999999999996\n",
      "==================================\n",
      "0.24\n",
      "0.19000000000000006\n"
     ]
    }
   ],
   "source": [
    " \n",
    "maxi = 0\n",
    "mini = 0\n",
    "for i in range(10):\n",
    "    print (i + 1)\n",
    "    print ( (i + 1) / 10 )\n",
    "    print ( r[i] )\n",
    "    print ( (i + 1 - 1) / 10 )\n",
    "    re = ((i + 1) / 10 ) - r[i]\n",
    "    print (re)\n",
    "    if(re > maxi):\n",
    "        maxi = re\n",
    "    ft = r[i] - ( (i - 1 + 1) / 10 )\n",
    "    print ( ft )\n",
    "    if(ft > mini):\n",
    "        mini = ft\n",
    "    print(\"==================================\")\n",
    "print(maxi)\n",
    "print(mini)"
   ]
  },
  {
   "cell_type": "code",
   "execution_count": 84,
   "metadata": {},
   "outputs": [],
   "source": [
    "aList = []\n",
    "r = [0.34,0.83,0.96,0.47,0.79,0.99,0.37,0.72,0.06,0.18,\n",
    "    0.67,0.62,0.05,0.49,0.59,0.42,0.05,0.02,0.74,0.67,\n",
    "    0.46,0.22,0.99,0.78,0.39,0.18,0.75,0.73,0.79,0.29,\n",
    "    0.11,0.19,0.58,0.34,0.42,0.37,0.31,0.73,0.74,0.21]"
   ]
  },
  {
   "cell_type": "code",
   "execution_count": 85,
   "metadata": {},
   "outputs": [],
   "source": [
    "corridas = 0\n",
    "n = 40 - 1\n",
    "for i in range(n):\n",
    "    if(r[i+1] > r[i]):\n",
    "        aList.append(1)\n",
    "    else:\n",
    "        aList.append(0)"
   ]
  },
  {
   "cell_type": "code",
   "execution_count": 86,
   "metadata": {},
   "outputs": [
    {
     "name": "stdout",
     "output_type": "stream",
     "text": [
      "[1, 1, 0, 1, 1, 0, 1, 0, 1, 1, 0, 0, 1, 1, 0, 0, 0, 1, 0, 0, 0, 1, 0, 0, 0, 1, 0, 1, 0, 0, 1, 1, 0, 1, 0, 0, 1, 1, 0]\n"
     ]
    }
   ],
   "source": [
    "print(aList)"
   ]
  },
  {
   "cell_type": "code",
   "execution_count": 87,
   "metadata": {},
   "outputs": [
    {
     "name": "stdout",
     "output_type": "stream",
     "text": [
      "24\n"
     ]
    }
   ],
   "source": [
    "for i in range(n - 1):\n",
    "    if(aList[i] == aList[i+1]):   \n",
    "        corridas += 1\n",
    "print(n - corridas)\n",
    "corr = n - corridas"
   ]
  },
  {
   "cell_type": "code",
   "execution_count": 88,
   "metadata": {},
   "outputs": [
    {
     "name": "stdout",
     "output_type": "stream",
     "text": [
      "26.333333333333332\n"
     ]
    }
   ],
   "source": [
    "valor_esp = ( 2*(n + 1) - 1 ) / 3\n",
    "print(valor_esp)"
   ]
  },
  {
   "cell_type": "code",
   "execution_count": 89,
   "metadata": {},
   "outputs": [
    {
     "name": "stdout",
     "output_type": "stream",
     "text": [
      "6.844444444444444\n"
     ]
    }
   ],
   "source": [
    "varianza = (16*( n + 1)-24)/90\n",
    "print(varianza)"
   ]
  },
  {
   "cell_type": "code",
   "execution_count": 90,
   "metadata": {},
   "outputs": [
    {
     "data": {
      "text/plain": [
       "-0.8918825850158444"
      ]
     },
     "execution_count": 90,
     "metadata": {},
     "output_type": "execute_result"
    }
   ],
   "source": [
    "import math\n",
    "(corr - valor_esp)/math.sqrt(varianza) "
   ]
  },
  {
   "cell_type": "markdown",
   "metadata": {},
   "source": [
    "### N° 2 CORRIDAS ------------------------------------------------------------------- > "
   ]
  },
  {
   "cell_type": "code",
   "execution_count": 189,
   "metadata": {},
   "outputs": [],
   "source": [
    "aList = []\n",
    "n1 = 0\n",
    "n2 = 0\n",
    "corridas = 0\n",
    "n = 50\n",
    "r = [0.809,0.042,0.432,0.538,0.225,0.88,0.688,0.772,0.036,0.854,\n",
    "     0.397,0.268,0.821,0.897,0.07,0.721,0.087,0.35,0.779,0.482,\n",
    "     0.136,0.855,0.453,0.197,0.444,0.799,0.809,0.691,0.545,0.857,\n",
    "     0.6292,0.055,0.348,0.373,0.436,0.29,0.015,0.834,0.599,0.724,\n",
    "     0.564,0.709,0.946,0.754,0.677,0.128,0.012,0.498,0.6,0.913]"
   ]
  },
  {
   "cell_type": "code",
   "execution_count": 190,
   "metadata": {
    "scrolled": true
   },
   "outputs": [
    {
     "name": "stdout",
     "output_type": "stream",
     "text": [
      "[1, 0, 0, 1, 0, 1, 1, 1, 0, 1, 0, 0, 1, 1, 0, 1, 0, 0, 1, 0, 0, 1, 0, 0, 0, 1, 1, 1, 1, 1, 1, 0, 0, 0, 0, 0, 0, 1, 1, 1, 1, 1, 1, 1, 1, 0, 0, 0, 1, 1]\n",
      "27\n",
      "23\n"
     ]
    }
   ],
   "source": [
    "for i in range(n):\n",
    "    if(r[i] > 0.5):   \n",
    "        aList.append(1)\n",
    "        n1 += 1\n",
    "    else:\n",
    "        aList.append(0)\n",
    "        n2 += 1\n",
    "print(aList)\n",
    "print(n1)\n",
    "print(n2)"
   ]
  },
  {
   "cell_type": "code",
   "execution_count": 197,
   "metadata": {},
   "outputs": [
    {
     "name": "stdout",
     "output_type": "stream",
     "text": [
      "40\n"
     ]
    }
   ],
   "source": [
    "for i in range(n - 1):\n",
    "    if(aList[i] == aList[i+1]):   \n",
    "        n = 50\n",
    "    else:\n",
    "        corridas += 1\n",
    "corridas += 1\n",
    "print(corridas)"
   ]
  },
  {
   "cell_type": "code",
   "execution_count": 198,
   "metadata": {},
   "outputs": [],
   "source": [
    "uco = (2*n1*n2/n) + 1/2"
   ]
  },
  {
   "cell_type": "code",
   "execution_count": 199,
   "metadata": {},
   "outputs": [],
   "source": [
    "uc2 = 2*n1*n2*(2*n1*n2-n)/(n*n*(n-1))"
   ]
  },
  {
   "cell_type": "code",
   "execution_count": 200,
   "metadata": {},
   "outputs": [],
   "source": [
    "z = (corridas - uco)/uc2"
   ]
  },
  {
   "cell_type": "code",
   "execution_count": 201,
   "metadata": {},
   "outputs": [
    {
     "name": "stdout",
     "output_type": "stream",
     "text": [
      "25.34\n",
      "12.085420408163266\n",
      "1.2130318602816414\n"
     ]
    }
   ],
   "source": [
    "print(uco)\n",
    "print(uc2)\n",
    "print(z)"
   ]
  },
  {
   "cell_type": "code",
   "execution_count": 202,
   "metadata": {},
   "outputs": [],
   "source": [
    "import numpy as np\n",
    "import pandas  as pd\n",
    "import os\n",
    "import matplotlib.pyplot as plt\n",
    "\n",
    "def grafica(li, ls, x, titulo):\n",
    "    fig = plt.figure(figsize=(20, 2)) \n",
    "\n",
    "    ax = plt.subplot(111)\n",
    "    ax.spines['right'].set_visible(False)\n",
    "    ax.spines['left'].set_visible(False)\n",
    "    ax.spines['top'].set_visible(False)\n",
    "    plt.gca().axes.get_yaxis().set_visible(False)\n",
    "\n",
    "    plt.title(titulo)\n",
    "\n",
    "    ax.set_yticklabels(())\n",
    "    ax.set_ylim([0, 1])\n",
    "    ax.set_xlim([li, ls])\n",
    "    plt.plot(float(li), 0.05, marker=\"o\", color=\"blue\")\n",
    "    plt.plot(float(ls), 0.05, marker=\"o\", color=\"blue\")\n",
    "    plt.plot(float(x), 0.1, marker=\"o\", color=\"red\")\n",
    "    plt.show()"
   ]
  },
  {
   "cell_type": "code",
   "execution_count": 188,
   "metadata": {},
   "outputs": [
    {
     "data": {
      "image/png": "[encoded data removed]",
      "text/plain": [
       "<Figure size 1440x144 with 1 Axes>"
      ]
     },
     "metadata": {
      "needs_background": "light"
     },
     "output_type": "display_data"
    }
   ],
   "source": [
    "grafica(-1.96,1.96,z,\"Gráfica 01\")"
   ]
  },
  {
   "cell_type": "code",
   "execution_count": 203,
   "metadata": {},
   "outputs": [],
   "source": [
    "n = 30\n",
    "r = [0.06, 0.72484,0.94197,0.56766,0.14411,0.87648,\n",
    "     0.81792,0.48999,0.18590,0.06060,0.11223,0.64794,\n",
    "     0.52953,0.50502,0.30444,0.70688,0.25357]"
   ]
  },
  {
   "cell_type": "code",
   "execution_count": 204,
   "metadata": {},
   "outputs": [
    {
     "data": {
      "text/plain": [
       "9.072"
      ]
     },
     "execution_count": 204,
     "metadata": {},
     "output_type": "execute_result"
    }
   ],
   "source": [
    "0.3024 * 30"
   ]
  },
  {
   "cell_type": "code",
   "execution_count": 205,
   "metadata": {},
   "outputs": [
    {
     "data": {
      "text/plain": [
       "15.120000000000001"
      ]
     },
     "execution_count": 205,
     "metadata": {},
     "output_type": "execute_result"
    }
   ],
   "source": [
    "0.5040 * 30"
   ]
  },
  {
   "cell_type": "code",
   "execution_count": 206,
   "metadata": {},
   "outputs": [
    {
     "data": {
      "text/plain": [
       "3.2399999999999998"
      ]
     },
     "execution_count": 206,
     "metadata": {},
     "output_type": "execute_result"
    }
   ],
   "source": [
    "0.1080 * 30"
   ]
  },
  {
   "cell_type": "code",
   "execution_count": 207,
   "metadata": {},
   "outputs": [
    {
     "data": {
      "text/plain": [
       "0.26999999999999996"
      ]
     },
     "execution_count": 207,
     "metadata": {},
     "output_type": "execute_result"
    }
   ],
   "source": [
    "0.0090 * 30"
   ]
  },
  {
   "cell_type": "code",
   "execution_count": 208,
   "metadata": {},
   "outputs": [
    {
     "data": {
      "text/plain": [
       "2.1599999999999997"
      ]
     },
     "execution_count": 208,
     "metadata": {},
     "output_type": "execute_result"
    }
   ],
   "source": [
    "0.0720 * 30"
   ]
  },
  {
   "cell_type": "code",
   "execution_count": 209,
   "metadata": {},
   "outputs": [
    {
     "data": {
      "text/plain": [
       "0.13499999999999998"
      ]
     },
     "execution_count": 209,
     "metadata": {},
     "output_type": "execute_result"
    }
   ],
   "source": [
    "0.0045 * 30"
   ]
  },
  {
   "cell_type": "code",
   "execution_count": 210,
   "metadata": {},
   "outputs": [
    {
     "data": {
      "text/plain": [
       "0.003"
      ]
     },
     "execution_count": 210,
     "metadata": {},
     "output_type": "execute_result"
    }
   ],
   "source": [
    "0.0001*30"
   ]
  },
  {
   "cell_type": "code",
   "execution_count": 211,
   "metadata": {},
   "outputs": [],
   "source": [
    "esperanzas = [9.072,15.1200000,3.23999,0.2699999,2.15999,0.134999,0.003]"
   ]
  },
  {
   "cell_type": "code",
   "execution_count": 219,
   "metadata": {},
   "outputs": [
    {
     "name": "stdout",
     "output_type": "stream",
     "text": [
      "1.1491839999999982\n"
     ]
    },
    {
     "ename": "TypeError",
     "evalue": "unsupported operand type(s) for /: 'NoneType' and 'float'",
     "output_type": "error",
     "traceback": [
      "\u001b[1;31m---------------------------------------------------------------------------\u001b[0m",
      "\u001b[1;31mTypeError\u001b[0m                                 Traceback (most recent call last)",
      "\u001b[1;32m<ipython-input-219-fe533b6d097f>\u001b[0m in \u001b[0;36m<module>\u001b[1;34m\u001b[0m\n\u001b[0;32m      1\u001b[0m \u001b[1;32mfor\u001b[0m \u001b[0mi\u001b[0m \u001b[1;32min\u001b[0m \u001b[0mrange\u001b[0m\u001b[1;33m(\u001b[0m\u001b[1;36m7\u001b[0m\u001b[1;33m)\u001b[0m\u001b[1;33m:\u001b[0m\u001b[1;33m\u001b[0m\u001b[1;33m\u001b[0m\u001b[0m\n\u001b[0;32m      2\u001b[0m     \u001b[0ma\u001b[0m \u001b[1;33m=\u001b[0m \u001b[1;36m8\u001b[0m\u001b[1;33m\u001b[0m\u001b[1;33m\u001b[0m\u001b[0m\n\u001b[1;32m----> 3\u001b[1;33m     \u001b[0mprint\u001b[0m\u001b[1;33m(\u001b[0m\u001b[1;33m(\u001b[0m\u001b[0mesperanzas\u001b[0m\u001b[1;33m[\u001b[0m\u001b[0mi\u001b[0m\u001b[1;33m]\u001b[0m \u001b[1;33m-\u001b[0m \u001b[0ma\u001b[0m\u001b[1;33m)\u001b[0m \u001b[1;33m*\u001b[0m \u001b[1;33m(\u001b[0m\u001b[0mesperanzas\u001b[0m\u001b[1;33m[\u001b[0m\u001b[0mi\u001b[0m\u001b[1;33m]\u001b[0m \u001b[1;33m-\u001b[0m \u001b[0ma\u001b[0m\u001b[1;33m)\u001b[0m\u001b[1;33m)\u001b[0m \u001b[1;33m/\u001b[0m\u001b[1;33m(\u001b[0m\u001b[0mesperanzas\u001b[0m\u001b[1;33m[\u001b[0m\u001b[0mi\u001b[0m\u001b[1;33m]\u001b[0m\u001b[1;33m)\u001b[0m\u001b[1;33m\u001b[0m\u001b[1;33m\u001b[0m\u001b[0m\n\u001b[0m",
      "\u001b[1;31mTypeError\u001b[0m: unsupported operand type(s) for /: 'NoneType' and 'float'"
     ]
    }
   ],
   "source": [
    "for i in range(7):\n",
    "    a = 8\n",
    "    print((esperanzas[i] - a) * (esperanzas[i] - a)) /(esperanzas[i])"
   ]
  },
  {
   "cell_type": "code",
   "execution_count": 223,
   "metadata": {},
   "outputs": [
    {
     "data": {
      "text/plain": [
       "1.8277319223985884"
      ]
     },
     "execution_count": 223,
     "metadata": {},
     "output_type": "execute_result"
    }
   ],
   "source": [
    "(9.072 - 5)*(9.072 - 5)/9.072"
   ]
  },
  {
   "cell_type": "code",
   "execution_count": null,
   "metadata": {},
   "outputs": [],
   "source": []
  }
 ],
 "metadata": {
  "kernelspec": {
   "display_name": "Python 3",
   "language": "python",
   "name": "python3"
  },
  "language_info": {
   "codemirror_mode": {
    "name": "ipython",
    "version": 3
   },
   "file_extension": ".py",
   "mimetype": "text/x-python",
   "name": "python",
   "nbconvert_exporter": "python",
   "pygments_lexer": "ipython3",
   "version": "3.8.5"
  }
 },
 "nbformat": 4,
 "nbformat_minor": 4
}
