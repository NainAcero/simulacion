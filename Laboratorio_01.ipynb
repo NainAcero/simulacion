{
 "cells": [
  {
   "cell_type": "code",
   "execution_count": 176,
   "metadata": {},
   "outputs": [],
   "source": [
    "import pandas as pd\n",
    "import os\n",
    "import numpy as np\n",
    "import math\n",
    "import scipy.stats as st \n",
    "import matplotlib.pyplot as plt\n",
    "import statistics"
   ]
  },
  {
   "cell_type": "code",
   "execution_count": 218,
   "metadata": {},
   "outputs": [],
   "source": [
    "def limite_inferior(z, n):\n",
    "    return (1/2) - st.norm.ppf(z)*(1/(math.sqrt(12*n)))\n",
    "\n",
    "def limite_superior(z, n):\n",
    "    return (1/2) + st.norm.ppf(z)*(1/(math.sqrt(12*n)))\n",
    "\n",
    "def grafica(li, ls, x, titulo):\n",
    "    fig = plt.figure(figsize=(20, 2)) \n",
    "\n",
    "    ax = plt.subplot(111)\n",
    "    ax.spines['right'].set_visible(False)\n",
    "    ax.spines['left'].set_visible(False)\n",
    "    ax.spines['top'].set_visible(False)\n",
    "    plt.gca().axes.get_yaxis().set_visible(False)\n",
    "\n",
    "    plt.title(titulo)\n",
    "\n",
    "    ax.set_yticklabels(())\n",
    "    ax.set_ylim([0, 1])\n",
    "    ax.set_xlim([li, ls])\n",
    "    plt.plot(float(li), 0.05, marker=\"o\", color=\"blue\")\n",
    "    plt.plot(float(ls), 0.05, marker=\"o\", color=\"blue\")\n",
    "    plt.plot(float(x), 0.1, marker=\"o\", color=\"red\")\n",
    "    plt.show()\n",
    "    "
   ]
  },
  {
   "cell_type": "code",
   "execution_count": 219,
   "metadata": {},
   "outputs": [
    {
     "name": "stdout",
     "output_type": "stream",
     "text": [
      "0.41054029281414217\n",
      "0.5894597071858578\n"
     ]
    }
   ],
   "source": [
    "data = [\n",
    "    0.0449, 0.1733, 0.5746, 0.049, 0.8406, 0.8349, 0.92, 0.2564, \n",
    "    0.6015, 0.6694, 0.3972, 0.7025, 0.1055, 0.1247, 0.1977, 0.0125, \n",
    "    0.63, 0.2531, 0.8297, 0.6483, 0.6972, 0.9582, 0.9085, 0.8524, \n",
    "    0.5514, 0.0316, 0.3587, 0.7041, 0.5915, 0.2523, 0.2545, 0.3044, \n",
    "    0.0207, 0.1067, 0.3857, 0.1746, 0.3362, 0.1589, 0.3727, 0.4145]\n",
    "\n",
    "li = limite_inferior(.9750,40)\n",
    "ls = limite_superior(.9750,40)\n",
    "x = np.mean(data)\n",
    "lng = len(data)\n",
    "print(li)\n",
    "print(ls)"
   ]
  },
  {
   "cell_type": "code",
   "execution_count": 220,
   "metadata": {},
   "outputs": [
    {
     "data": {
      "image/png": "[encoded data removed]",
      "text/plain": [
       "<Figure size 1440x144 with 1 Axes>"
      ]
     },
     "metadata": {
      "needs_background": "light"
     },
     "output_type": "display_data"
    }
   ],
   "source": [
    "grafica(li, ls,x, \"GRAFICA 01\")"
   ]
  },
  {
   "cell_type": "code",
   "execution_count": null,
   "metadata": {},
   "outputs": [],
   "source": []
  },
  {
   "cell_type": "code",
   "execution_count": 221,
   "metadata": {},
   "outputs": [],
   "source": [
    "def chi2_limite_inferior(a, n):\n",
    "    return st.chi2.ppf(a/2 , 39)/(12*(n-1))\n",
    "    \n",
    "def chi2_limite_superior(a, n):\n",
    "    return st.chi2.ppf(1-(a/2) , 39)/(12*(n-1))"
   ]
  },
  {
   "cell_type": "code",
   "execution_count": 222,
   "metadata": {},
   "outputs": [
    {
     "name": "stdout",
     "output_type": "stream",
     "text": [
      "0.05054342854186543\n",
      "0.12418816182625284\n"
     ]
    }
   ],
   "source": [
    "vr = np.var(data)\n",
    "a = 0.05\n",
    "\n",
    "chi2_li = chi2_limite_inferior(a, lng)\n",
    "chi2_ls = chi2_limite_superior(a, lng)\n",
    "print(chi2_li)\n",
    "print(chi2_ls)"
   ]
  },
  {
   "cell_type": "code",
   "execution_count": 224,
   "metadata": {},
   "outputs": [
    {
     "data": {
      "image/png": "[encoded data removed]",
      "text/plain": [
       "<Figure size 1440x144 with 1 Axes>"
      ]
     },
     "metadata": {
      "needs_background": "light"
     },
     "output_type": "display_data"
    }
   ],
   "source": [
    "grafica(chi2_li, chi2_ls, vr, \"GRAFICA 02\")"
   ]
  }
 ],
 "metadata": {
  "kernelspec": {
   "display_name": "Python 3",
   "language": "python",
   "name": "python3"
  },
  "language_info": {
   "codemirror_mode": {
    "name": "ipython",
    "version": 3
   },
   "file_extension": ".py",
   "mimetype": "text/x-python",
   "name": "python",
   "nbconvert_exporter": "python",
   "pygments_lexer": "ipython3",
   "version": "3.8.5"
  }
 },
 "nbformat": 4,
 "nbformat_minor": 4
}
