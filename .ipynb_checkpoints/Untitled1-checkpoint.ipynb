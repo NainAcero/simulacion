{
 "cells": [
  {
   "cell_type": "code",
   "execution_count": 107,
   "metadata": {},
   "outputs": [],
   "source": [
    "import pandas as pd\n",
    "import os\n",
    "import numpy as np\n",
    "import matplotlib.pyplot as plt\n",
    "import urllib3\n",
    "from bs4 import BeautifulSoup\n",
    "import json\n",
    "\n",
    "url = \"http://localhost:3000/api/talonario/info\"\n",
    "\n",
    "http = urllib3.PoolManager()\n",
    "response = http.request('GET', url)\n",
    "soup = BeautifulSoup(response.data, \"html.parser\")\n",
    "\n",
    "json_data = json.loads(soup.text)"
   ]
  },
  {
   "cell_type": "code",
   "execution_count": 108,
   "metadata": {},
   "outputs": [],
   "source": [
    "df = pd.DataFrame(json_data['data'])\n",
    "df.to_csv('data.csv', index=False)"
   ]
  },
  {
   "cell_type": "code",
   "execution_count": 158,
   "metadata": {},
   "outputs": [
    {
     "name": "stdout",
     "output_type": "stream",
     "text": [
      "\n",
      " *******************************************************************************\n",
      "NOMBRE DE USUARIO :  usuario01\n",
      "EMAIL DE USUARIO :  usuario01@gmail.com\n",
      "TELÉFONO DE USUARIO :  usuario01\n",
      " \n",
      " CARTILLA  1  \n",
      " \n",
      "7 \t 20 \t 35 \t 47 \t 72\n",
      "12 \t 16 \t 42 \t 42 \t 61\n",
      "1 \t 19 \t 0 \t 60 \t 74\n",
      "5 \t 29 \t 39 \t 51 \t 68\n",
      "13 \t 18 \t 44 \t 58 \t 70\n",
      " \n",
      " CARTILLA  2  \n",
      " \n",
      "14 \t 17 \t 31 \t 50 \t 59\n",
      "9 \t 28 \t 44 \t 48 \t 72\n",
      "2 \t 19 \t 0 \t 59 \t 62\n",
      "11 \t 26 \t 37 \t 52 \t 73\n",
      "6 \t 16 \t 41 \t 49 \t 66\n",
      "\n",
      " *******************************************************************************\n",
      "NOMBRE DE USUARIO :  usuario02\n",
      "EMAIL DE USUARIO :  usuario02@gmail.com\n",
      "TELÉFONO DE USUARIO :  usuario02\n",
      " \n",
      " CARTILLA  1  \n",
      " \n",
      "4 \t 19 \t 32 \t 55 \t 75\n",
      "15 \t 16 \t 41 \t 46 \t 65\n",
      "3 \t 28 \t 0 \t 59 \t 72\n",
      "6 \t 5 \t 33 \t 47 \t 67\n",
      "12 \t 25 \t 42 \t 56 \t 69\n",
      "\n",
      " *******************************************************************************\n",
      "NOMBRE DE USUARIO :  usuario03\n",
      "EMAIL DE USUARIO :  usuario03@gmail.com\n",
      "TELÉFONO DE USUARIO :  usuario03\n",
      " \n",
      " CARTILLA  1  \n",
      " \n",
      "5 \t 17 \t 43 \t 47 \t 74\n",
      "14 \t 21 \t 36 \t 42 \t 67\n",
      "4 \t 18 \t 0 \t 60 \t 72\n",
      "11 \t 22 \t 41 \t 51 \t 63\n",
      "7 \t 27 \t 48 \t 54 \t 70\n",
      "\n",
      " *******************************************************************************\n"
     ]
    }
   ],
   "source": [
    "numeros = []\n",
    "print('\\n *******************************************************************************')\n",
    "for i in range(len(df['talonario'])):\n",
    "    print(\"NOMBRE DE USUARIO : \",df[\"nombre\"][i])\n",
    "    print(\"EMAIL DE USUARIO : \",df[\"email\"][i])\n",
    "    print(\"TELÉFONO DE USUARIO : \",df[\"telefono\"][i])\n",
    "    for j in range(len(df['talonario'][i])):        \n",
    "        print(' \\n CARTILLA ', j + 1, \" \\n \")\n",
    "        numeros = []\n",
    "        for k in range(len(df['talonario'][i][j]['talonario'])):\n",
    "          numeros.append(df['talonario'][i][j]['talonario'][k]['numero'])\n",
    "        print(numeros[0], \"\\t\",  numeros[1], \"\\t\", numeros[2], \"\\t\", numeros[3], \"\\t\", numeros[4])\n",
    "        print(numeros[5], \"\\t\",  numeros[6], \"\\t\", numeros[7], \"\\t\", numeros[8], \"\\t\", numeros[9])\n",
    "        print(numeros[10], \"\\t\", numeros[11], \"\\t\", numeros[12], \"\\t\", numeros[13], \"\\t\", numeros[14])\n",
    "        print(numeros[15], \"\\t\", numeros[16], \"\\t\", numeros[17], \"\\t\", numeros[18], \"\\t\", numeros[19])\n",
    "        print(numeros[20], \"\\t\", numeros[21], \"\\t\", numeros[22], \"\\t\", numeros[23], \"\\t\", numeros[24])\n",
    "    print('\\n *******************************************************************************')"
   ]
  },
  {
   "cell_type": "code",
   "execution_count": null,
   "metadata": {},
   "outputs": [],
   "source": []
  },
  {
   "cell_type": "code",
   "execution_count": null,
   "metadata": {},
   "outputs": [],
   "source": []
  }
 ],
 "metadata": {
  "kernelspec": {
   "display_name": "Python 3",
   "language": "python",
   "name": "python3"
  },
  "language_info": {
   "codemirror_mode": {
    "name": "ipython",
    "version": 3
   },
   "file_extension": ".py",
   "mimetype": "text/x-python",
   "name": "python",
   "nbconvert_exporter": "python",
   "pygments_lexer": "ipython3",
   "version": "3.8.5"
  }
 },
 "nbformat": 4,
 "nbformat_minor": 4
}
