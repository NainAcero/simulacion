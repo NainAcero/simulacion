{
 "cells": [
  {
   "cell_type": "code",
   "execution_count": 2,
   "metadata": {},
   "outputs": [],
   "source": [
    "import math\n",
    "import numpy as np\n",
    "import pandas  as pd\n",
    "from matplotlib import pyplot as plt\n",
    "import scipy.stats as st "
   ]
  },
  {
   "cell_type": "code",
   "execution_count": 3,
   "metadata": {},
   "outputs": [],
   "source": [
    "def temperatura(pseudoaleatorios, a , b):\n",
    "    x = []\n",
    "    for i in range(len(pseudoaleatorios)):\n",
    "        val = a + (b - a) * pseudoaleatorios[i]\n",
    "        x.append(round(val, 4))\n",
    "    return x"
   ]
  },
  {
   "cell_type": "code",
   "execution_count": 4,
   "metadata": {},
   "outputs": [
    {
     "data": {
      "text/plain": [
       "[96.8625, 96.078, 99.1155, 98.5675, 95.76, 95]"
      ]
     },
     "execution_count": 4,
     "metadata": {},
     "output_type": "execute_result"
    }
   ],
   "source": [
    "data = [0.3725, 0.2156, 0.8231, 0.7135, 0.1520, 0] \n",
    "a = 95\n",
    "b = 100\n",
    "temperatura(data, a, b)"
   ]
  },
  {
   "cell_type": "markdown",
   "metadata": {},
   "source": [
    "### 1.5. Algoritmo de Blum, Blum y Shub"
   ]
  },
  {
   "cell_type": "markdown",
   "metadata": {},
   "source": [
    "Si en el algoritmo congruencial cuadrático $a=1, b=0, c=0$, entonces se construye una nueva ecuación recursiva:\n",
    "\n",
    "> $X_{i+1}=(X_i^2)mod(m) \\hspace{1cm} i=0,1,2,3,...N$\n",
    "\n",
    "Fue propuesta como un nuevo método para generar números que no tienen un comportamiento predecible.\n",
    "\n",
    "Adicionalmente, $m$ debe ser la multiplicación de 2 números primos grandes"
   ]
  },
  {
   "cell_type": "code",
   "execution_count": 5,
   "metadata": {},
   "outputs": [
    {
     "name": "stdout",
     "output_type": "stream",
     "text": [
      "Números pseudoaleatorios generados a través del tiempo:\n"
     ]
    },
    {
     "data": {
      "image/png": "[encoded data removed]",
      "text/plain": [
       "<Figure size 432x288 with 1 Axes>"
      ]
     },
     "metadata": {
      "needs_background": "light"
     },
     "output_type": "display_data"
    }
   ],
   "source": [
    "def algoritmo_cuadratico(semilla,a,b,c,m):\n",
    "  entero = (a*semilla**2+b*semilla+c)%m\n",
    "  r = entero/(m-1)\n",
    "  return r,entero\n",
    "\n",
    "cantidad = 50\n",
    "semilla = 3\n",
    "pseudoaleatorios = []\n",
    "for i in range(cantidad):\n",
    "  r,semilla = algoritmo_cuadratico(semilla,a=1,b=0,c=0,m=11*23)\n",
    "  pseudoaleatorios.append(r)\n",
    "\n",
    "df = pd.DataFrame({'column':pseudoaleatorios}) \n",
    "df.to_csv('lab_01_algoritmo_blum_blum.csv', index=False, header=['aleatorio'],sep=';',decimal='.')\n",
    "df.to_csv('lab_01_algoritmo_blum_blum.txt', index=False, header=['aleatorio'],sep=';',decimal='.')\n",
    "\n",
    "print(\"Números pseudoaleatorios generados a través del tiempo:\")\n",
    "plt.plot(range(cantidad),pseudoaleatorios, marker=\"o\", color=\"red\")\n",
    "plt.show()"
   ]
  },
  {
   "cell_type": "markdown",
   "metadata": {},
   "source": [
    "## 2. Pruebas de uniformidad"
   ]
  },
  {
   "cell_type": "markdown",
   "metadata": {},
   "source": [
    "Busca determinar si los números del conjunto $r_i$ se distribuyen de manera uniforme en el intervalo (0,1). Es necesario dividir el intervalo (0,1) en $m$ sub-intervalos, en donde es recomendable $m=\\sqrt{n}$. Luego se clasifica cada número cada número pseudoaleatorio $r_i$ en los $m$ intervalos. Donde $O_i$ es la frecuencia observada y $E_i$ es la frecuencia esperada. $E_i$ es teóricamente igual a $n/m$.\n",
    "\n",
    "> $\\mathcal{X}_0^2=\\sum_{i=1}^{m}\\frac{(E_i-O_i)^2}{E_i}$\n",
    "\n",
    "Si el valor estadístico $\\mathcal{X}_0^2$ es menor al valor de tablas de $\\mathcal{X}_{\\alpha,m-1}^2$, entonces no se puede rechazar que el conjunto de numeros $r_i$ sigue una distribución uniforme. En caso contrario, se rechaza que $r_i$ sigue una distribución uniforme."
   ]
  },
  {
   "cell_type": "code",
   "execution_count": 6,
   "metadata": {},
   "outputs": [
    {
     "name": "stdout",
     "output_type": "stream",
     "text": [
      "El estadístico chi-cuadrada es:  13.84\n",
      "Tabla 14.44937533544792\n"
     ]
    }
   ],
   "source": [
    "def prueba_chi_cuadrada(pseudoaleatorios):\n",
    "  n = len(pseudoaleatorios)\n",
    "  m = int(n**0.5)\n",
    "  intervalo = 1/m\n",
    "  frec_esperada = np.ones(m)*(n/m)\n",
    "  frec_observada = np.zeros(m)\n",
    "  for pseudoaleatorio in pseudoaleatorios:\n",
    "    posicion = int(pseudoaleatorio/intervalo) if pseudoaleatorio!=1 else m-1\n",
    "    frec_observada[posicion] += 1\n",
    "  return ((frec_esperada-frec_observada)**2/frec_esperada).sum()\n",
    "\n",
    "datos = np.array(pseudoaleatorios)\n",
    "print(\"El estadístico chi-cuadrada es: \",prueba_chi_cuadrada(datos))\n",
    "a = 0.05\n",
    "print(\"Tabla\", st.chi2.ppf( 1 - (a/2), int(len(datos)**0.5) - 1))"
   ]
  },
  {
   "cell_type": "markdown",
   "metadata": {},
   "source": [
    "## 3. Pruebas de independencia"
   ]
  },
  {
   "cell_type": "markdown",
   "metadata": {},
   "source": [
    "### 3.1 Prueba de corridas arriba y abajo"
   ]
  },
  {
   "cell_type": "markdown",
   "metadata": {},
   "source": [
    "El procedimiento de esta prueba consiste en determinar una secuencia de números ($S$) que solo contienen unos y ceros, de acuerdo con la comparación entre $r_i$ y $r_{i-1}$ (cero si el número $r_i$ es menor que $r_{i-1}$, caso contrario uno). Después se determina el número de corridas observadas, $C_O$ (cantidad de unos o ceros consecutivos). Luego se calcula el valor esperado, la varianza del número de corridas y el estadístico $Z_0$ mediante las ecucaciones:\n",
    "\n",
    "> $\\mu_{C_O} = \\frac{2n-1}{3}$\n",
    "\n",
    "> $\\sigma_{C_O}^2=\\frac{16n-29}{90}$3\n",
    "\n",
    "> $Z_0 = \\lvert \\frac{C_O - \\mu_{C_O}}{\\sigma_{C_O}} \\rvert$\n",
    "\n",
    "Si el estadístico $Z_0$ es mayor que el valor crítico $Z_{\\alpha,2}$, se concluye que los números del conjunto $r_i$ no son independientes. De lo contrario no se puede rechazar que el conjunto de $r_i$ sea independiente."
   ]
  },
  {
   "cell_type": "code",
   "execution_count": 7,
   "metadata": {},
   "outputs": [
    {
     "name": "stdout",
     "output_type": "stream",
     "text": [
      "El estadístico Z_0 es:  0.34165994425704577\n"
     ]
    }
   ],
   "source": [
    "pseudoaleatorios = np.array(pseudoaleatorios)\n",
    "n = len(pseudoaleatorios)\n",
    "s = np.floor(np.diff(pseudoaleatorios) + 1).astype(int) #diff encuentra la diferencia entre numeros consecutivos, diff[0 1 2] = [1 1], floor y +1 son artificio para cumplir la condicion de s\n",
    "compresion = [valor for indice,valor in enumerate(s) if indice == 0 or valor != s[indice-1]] #crea un array sin valores consecutivos repetidos, [1 2 2 3] -> [1 2 3]\n",
    "corridas = len(compresion)\n",
    "media = (2*n-1)/3\n",
    "varianza = (16*n-29)/90\n",
    "Z_0 = abs((corridas-media)/varianza**0.5)\n",
    "print(\"El estadístico Z_0 es: \", Z_0)"
   ]
  },
  {
   "cell_type": "markdown",
   "metadata": {},
   "source": [
    "Como el estadístico $Z_0 = 0.341659$ es menor que el valor de la tabla de la normal estándar para $Z_{\\alpha,2}=Z_{5\\%,2}=1.96$, se concluye que no se puede rechazar que los números del conjunto $r_i$ son independientes."
   ]
  },
  {
   "cell_type": "markdown",
   "metadata": {},
   "source": [
    "## Uniforme"
   ]
  },
  {
   "cell_type": "code",
   "execution_count": 8,
   "metadata": {},
   "outputs": [
    {
     "data": {
      "text/plain": [
       "[95.1786,\n",
       " 96.6071,\n",
       " 99.6825,\n",
       " 95.7143,\n",
       " 95.6151,\n",
       " 99.0079,\n",
       " 96.4087,\n",
       " 99.6429,\n",
       " 97.1429,\n",
       " 95.5159,\n",
       " 98.373,\n",
       " 96.1508,\n",
       " 96.4881,\n",
       " 96.1706,\n",
       " 98.8095,\n",
       " 98.5516,\n",
       " 98.2341,\n",
       " 95.0794,\n",
       " 95.3175,\n",
       " 95.0595,\n",
       " 95.1786,\n",
       " 96.6071,\n",
       " 99.6825,\n",
       " 95.7143,\n",
       " 95.6151,\n",
       " 99.0079,\n",
       " 96.4087,\n",
       " 99.6429,\n",
       " 97.1429,\n",
       " 95.5159,\n",
       " 98.373,\n",
       " 96.1508,\n",
       " 96.4881,\n",
       " 96.1706,\n",
       " 98.8095,\n",
       " 98.5516,\n",
       " 98.2341,\n",
       " 95.0794,\n",
       " 95.3175,\n",
       " 95.0595,\n",
       " 95.1786,\n",
       " 96.6071,\n",
       " 99.6825,\n",
       " 95.7143,\n",
       " 95.6151,\n",
       " 99.0079,\n",
       " 96.4087,\n",
       " 99.6429,\n",
       " 97.1429,\n",
       " 95.5159]"
      ]
     },
     "execution_count": 8,
     "metadata": {},
     "output_type": "execute_result"
    }
   ],
   "source": [
    "a = 95\n",
    "b = 100\n",
    "temperatura(pseudoaleatorios, a, b)"
   ]
  },
  {
   "cell_type": "code",
   "execution_count": null,
   "metadata": {},
   "outputs": [],
   "source": []
  },
  {
   "cell_type": "code",
   "execution_count": null,
   "metadata": {},
   "outputs": [],
   "source": []
  },
  {
   "cell_type": "code",
   "execution_count": null,
   "metadata": {},
   "outputs": [],
   "source": []
  },
  {
   "cell_type": "code",
   "execution_count": null,
   "metadata": {},
   "outputs": [],
   "source": []
  }
 ],
 "metadata": {
  "kernelspec": {
   "display_name": "Python 3",
   "language": "python",
   "name": "python3"
  },
  "language_info": {
   "codemirror_mode": {
    "name": "ipython",
    "version": 3
   },
   "file_extension": ".py",
   "mimetype": "text/x-python",
   "name": "python",
   "nbconvert_exporter": "python",
   "pygments_lexer": "ipython3",
   "version": "3.8.5"
  }
 },
 "nbformat": 4,
 "nbformat_minor": 4
}
